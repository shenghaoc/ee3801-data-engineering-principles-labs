{
 "cells": [
  {
   "cell_type": "code",
   "execution_count": 2,
   "metadata": {},
   "outputs": [],
   "source": [
    "import numpy as np\n",
    "import matplotlib.pyplot as plt\n",
    "from pyedfread import edf\n",
    "from neo.io import BlackrockIO\n",
    "import DataProcessingTools as DPT\n",
    "import time\n",
    "import PyHipp as pyh"
   ]
  },
  {
   "cell_type": "code",
   "execution_count": 15,
   "metadata": {},
   "outputs": [],
   "source": [
    "# File loading step\n",
    "data = np.loadtxt(\"picasso/session01/RawData_T1-400/session_1_5112018105323.txt\", skiprows=14)"
   ]
  },
  {
   "cell_type": "code",
   "execution_count": 16,
   "metadata": {},
   "outputs": [],
   "source": [
    "# 2d\n",
    "uind = np.arange(300)"
   ]
  },
  {
   "cell_type": "code",
   "execution_count": 16,
   "metadata": {},
   "outputs": [],
   "source": [
    "# 2e\n",
    "ut = np.cumsum(data[uind,1])"
   ]
  },
  {
   "cell_type": "code",
   "execution_count": 3,
   "metadata": {},
   "outputs": [
    {
     "data": {
      "text/plain": [
       "[<matplotlib.lines.Line2D at 0x7fb9073f9e50>,\n",
       " <matplotlib.lines.Line2D at 0x7fb907f485d0>,\n",
       " <matplotlib.lines.Line2D at 0x7fb907f48790>]"
      ]
     },
     "execution_count": 3,
     "metadata": {},
     "output_type": "execute_result"
    },
    {
     "data": {
      "image/png": "[encoded data removed]",
      "text/plain": [
       "<Figure size 432x288 with 3 Axes>"
      ]
     },
     "metadata": {
      "needs_background": "light"
     },
     "output_type": "display_data"
    }
   ],
   "source": [
    "# 2h NEED TO SUBMIT\n",
    "plt.figure()\n",
    "plt.subplot(3,1,1)\n",
    "plt.plot(ut,data[uind,2])\n",
    "plt.xlabel('Time (s)')\n",
    "plt.ylabel('X-Pos')\n",
    "mi = data[uind,0].nonzero()\n",
    "yl = plt.ylim()\n",
    "t2 = ut[mi[0][1:]]\n",
    "pt2 = np.kron(np.ones((2,1)),t2)\n",
    "py2 = np.kron(np.ones((np.size(pt2,1),1)),yl).transpose()\n",
    "plt.plot(pt2,py2)\n",
    "\n",
    "plt.subplot(3,1,2)\n",
    "plt.plot(ut,data[uind,3])\n",
    "plt.xlabel('Time (s)')\n",
    "plt.ylabel('Y-Pos')\n",
    "yl = plt.ylim()\n",
    "py2 = np.kron(np.ones((np.size(pt2,1),1)),yl).transpose()\n",
    "plt.plot(pt2,py2)\n",
    "\n",
    "plt.subplot(3,1,3)\n",
    "plt.plot(ut,data[uind,4])\n",
    "plt.xlabel('Time (s)')\n",
    "plt.ylabel('Orientation')\n",
    "yl = plt.ylim()\n",
    "py2 = np.kron(np.ones((np.size(pt2,1),1)),yl).transpose()\n",
    "plt.plot(pt2,py2)"
   ]
  },
  {
   "cell_type": "code",
   "execution_count": 69,
   "metadata": {},
   "outputs": [
    {
     "data": {
      "text/plain": [
       "[<matplotlib.lines.Line2D at 0x7fb905816310>]"
      ]
     },
     "execution_count": 69,
     "metadata": {},
     "output_type": "execute_result"
    },
    {
     "data": {
      "image/png": "[encoded data removed]",
      "text/plain": [
       "<Figure size 432x288 with 1 Axes>"
      ]
     },
     "metadata": {
      "needs_background": "light"
     },
     "output_type": "display_data"
    }
   ],
   "source": [
    "# 2g NEED TO WRITE AND SUBMIT\n",
    "from matplotlib.patches import Rectangle, Circle\n",
    "plt.figure()\n",
    "currentAxis = plt.gca()\n",
    "\n",
    "# Draw maze boundaries\n",
    "currentAxis.add_patch(Rectangle((-12.5, -12.5), 25, 25, fill=None,lw=2))\n",
    "\n",
    "# Draw pillars inside maze\n",
    "currentAxis.add_patch(Rectangle((-7.5, 2.5), 5, 5, fill=None,ec='yellow'))\n",
    "currentAxis.add_patch(Rectangle((-7.5, -7.5), 5, 5, fill=None, ec='blue'))\n",
    "currentAxis.add_patch(Rectangle((2.5, 2.5), 5, 5, fill=None, ec='red'))\n",
    "currentAxis.add_patch(Rectangle((2.5, -7.5), 5, 5, fill=None, ec='green'))\n",
    "\n",
    "# Add marker to last point\n",
    "currentAxis.add_patch(Circle((data[uind,2][-1],data[uind,3][-1]), radius=0.25, color='orange'))\n",
    "\n",
    "# Add text labels to mark locations of posters\n",
    "plt.text(-5, -8.75, '1')\n",
    "plt.text(-8.25, 5, '2')\n",
    "plt.text(7.5, -5, '3')\n",
    "plt.text(5, 7.75, '4')\n",
    "plt.text(5, 1.25, '5')\n",
    "plt.text(-5, -2, '6')\n",
    "\n",
    "# Plot position data\n",
    "plt.plot(data[uind,2],data[uind,3])"
   ]
  },
  {
   "cell_type": "code",
   "execution_count": 7,
   "metadata": {},
   "outputs": [
    {
     "data": {
      "text/plain": [
       "Index(['time', 'px_left', 'px_right', 'py_left', 'py_right', 'hx_left',\n",
       "       'hx_right', 'hy_left', 'hy_right', 'pa_left', 'pa_right', 'gx_left',\n",
       "       'gx_right', 'gy_left', 'gy_right', 'rx', 'ry', 'gxvel_left',\n",
       "       'gxvel_right', 'gyvel_left', 'gyvel_right', 'hxvel_left', 'hxvel_right',\n",
       "       'hyvel_left', 'hyvel_right', 'rxvel_left', 'rxvel_right', 'ryvel_left',\n",
       "       'ryvel_right', 'fgxvel', 'fgyvel', 'fhxyvel', 'fhyvel', 'frxyvel',\n",
       "       'fryvel', 'flags', 'input', 'buttons', 'htype', 'errors'],\n",
       "      dtype='object')"
      ]
     },
     "execution_count": 7,
     "metadata": {},
     "output_type": "execute_result"
    }
   ],
   "source": [
    "# Data loading step\n",
    "samples, events, messages = edf.pread('picasso/181105.edf', trial_marker=b'Start Trial')"
   ]
  },
  {
   "cell_type": "code",
   "execution_count": 23,
   "metadata": {},
   "outputs": [],
   "source": [
    "# 3c\n",
    "samples.columns\n",
    "samples[['time','gx_left','gy_left']][0:9]"
   ]
  },
  {
   "cell_type": "code",
   "execution_count": 23,
   "metadata": {},
   "outputs": [],
   "source": [
    "# 3d\n",
    "events[['type','start','end']][0:9]"
   ]
  },
  {
   "cell_type": "code",
   "execution_count": 23,
   "metadata": {},
   "outputs": [],
   "source": [
    "# 3e\n",
    "messages[['trialid_time','Cue_time','End_time','Timeout_time']][0:9]\n",
    "messages['RECCFG'][0][1]"
   ]
  },
  {
   "cell_type": "code",
   "execution_count": 23,
   "metadata": {},
   "outputs": [],
   "source": [
    "# 3f\n",
    "esr = int(messages['RECCFG'][0][1])\n",
    "samples['time'] = samples['time']/esr\n",
    "events[['start','end']] = events[['start','end']]/esr\n",
    "messages[['trialid_time','Cue_time','End_time']] = messages[['trialid_time','Cue_time','End_time']]/esr"
   ]
  },
  {
   "cell_type": "code",
   "execution_count": 23,
   "metadata": {},
   "outputs": [],
   "source": [
    "# 3g\n",
    "eind = np.arange(15000)\n",
    "ex = samples['gx_left'][eind]\n",
    "et = samples['time'][eind]\n",
    "plt.plot(et,ex)\n",
    "plt.xlabel('Time (s)')\n",
    "plt.ylabel('Eye Position X')"
   ]
  },
  {
   "cell_type": "code",
   "execution_count": 23,
   "metadata": {},
   "outputs": [],
   "source": [
    "# 3h\n",
    "ex[ex>1920] = np.nan\n",
    "ex[ex<0] = np.nan"
   ]
  },
  {
   "cell_type": "code",
   "execution_count": 23,
   "metadata": {},
   "outputs": [],
   "source": [
    "# 3i\n",
    "ax = plt.gca()\n",
    "ax.clear()\n",
    "plt.plot(et,ex)\n",
    "plt.xlabel('Time (s)')\n",
    "plt.ylabel('Eye Position X')"
   ]
  },
  {
   "cell_type": "code",
   "execution_count": 23,
   "metadata": {},
   "outputs": [],
   "source": [
    "# 3j\n",
    "yl = plt.ylim()\n",
    "xval = events['start'][0]\n",
    "plt.plot([xval,xval],yl)\n",
    "xval = events['end'][0]\n",
    "plt.plot([xval,xval],yl)"
   ]
  },
  {
   "cell_type": "code",
   "execution_count": 23,
   "metadata": {},
   "outputs": [],
   "source": [
    "# 3k\n",
    "xval = events['start'][1]\n",
    "plt.plot([xval,xval],yl)\n",
    "xval = events['end'][1]\n",
    "plt.plot([xval,xval],yl)"
   ]
  },
  {
   "cell_type": "code",
   "execution_count": 23,
   "metadata": {},
   "outputs": [
    {
     "data": {
      "text/plain": [
       "[<matplotlib.lines.Line2D at 0x7f86f5f4df50>]"
      ]
     },
     "execution_count": 23,
     "metadata": {},
     "output_type": "execute_result"
    },
    {
     "data": {
      "image/png": "[encoded data removed]",
      "text/plain": [
       "<Figure size 432x288 with 1 Axes>"
      ]
     },
     "metadata": {
      "needs_background": "light"
     },
     "output_type": "display_data"
    }
   ],
   "source": [
    "# 3m\n",
    "xval = messages['trialid_time'][1]\n",
    "plt.plot([xval,xval],yl)\n",
    "xval = messages['Cue_time'][1]\n",
    "plt.plot([xval,xval],yl)\n",
    "xval = messages['End_time'][1]\n",
    "plt.plot([xval,xval],yl)"
   ]
  },
  {
   "cell_type": "code",
   "execution_count": 24,
   "metadata": {},
   "outputs": [],
   "source": [
    "# 3n NEED TO WRITE AND SUBMIT"
   ]
  },
  {
   "cell_type": "code",
   "execution_count": 36,
   "metadata": {},
   "outputs": [],
   "source": [
    "# File loading step\n",
    "reader = BlackrockIO('picasso/session01/181105_Block1.ns5')"
   ]
  },
  {
   "cell_type": "code",
   "execution_count": 42,
   "metadata": {},
   "outputs": [],
   "source": [
    "# 4c\n",
    "bl = reader.read_block(lazy = True)\n",
    "bl"
   ]
  },
  {
   "cell_type": "code",
   "execution_count": 42,
   "metadata": {},
   "outputs": [],
   "source": [
    "# 4d\n",
    "bl.segments[0].analogsignals[1].shape"
   ]
  },
  {
   "cell_type": "code",
   "execution_count": 42,
   "metadata": {},
   "outputs": [],
   "source": [
    "# 4e\n",
    "data = np.array(bl.segments[0].analogsignals[1].load(time_slice=None, channel_indexes=[2]))"
   ]
  },
  {
   "cell_type": "code",
   "execution_count": 42,
   "metadata": {},
   "outputs": [
    {
     "data": {
      "text/plain": [
       "30000.0"
      ]
     },
     "execution_count": 42,
     "metadata": {},
     "output_type": "execute_result"
    }
   ],
   "source": [
    "# 4f\n",
    "sr = float(bl.segments[0].analogsignals[1].sampling_rate)\n",
    "sr"
   ]
  },
  {
   "cell_type": "code",
   "execution_count": 43,
   "metadata": {},
   "outputs": [],
   "source": [
    "# File loading step\n",
    "reader = BlackrockIO('picasso/session01/181105_Block1.nev')"
   ]
  },
  {
   "cell_type": "code",
   "execution_count": 48,
   "metadata": {},
   "outputs": [],
   "source": [
    "# 4g\n",
    "ev_rawtimes, _, ev_markers = reader.get_event_timestamps()"
   ]
  },
  {
   "cell_type": "code",
   "execution_count": 48,
   "metadata": {},
   "outputs": [],
   "source": [
    "# 4h\n",
    "ev_markers[0:9]"
   ]
  },
  {
   "cell_type": "code",
   "execution_count": 48,
   "metadata": {},
   "outputs": [
    {
     "data": {
      "text/plain": [
       "array([183607, 183628, 245904, 245905, 276652, 276653, 497314, 497315,\n",
       "       557948], dtype=uint32)"
      ]
     },
     "execution_count": 48,
     "metadata": {},
     "output_type": "execute_result"
    }
   ],
   "source": [
    "# 4i\n",
    "ev_rawtimes[0:9]"
   ]
  },
  {
   "cell_type": "code",
   "execution_count": 49,
   "metadata": {},
   "outputs": [],
   "source": [
    "# 4j NEED TO WRITE AND SUBMIT"
   ]
  },
  {
   "cell_type": "code",
   "execution_count": 50,
   "metadata": {},
   "outputs": [],
   "source": [
    "# 5a NEED TO WRITE AND SUBMIT"
   ]
  },
  {
   "cell_type": "code",
   "execution_count": 51,
   "metadata": {},
   "outputs": [],
   "source": [
    "# 5b NEED TO WRITE AND SUBMIT"
   ]
  },
  {
   "cell_type": "code",
   "execution_count": 3,
   "metadata": {},
   "outputs": [
    {
     "name": "stdout",
     "output_type": "stream",
     "text": [
      "Object loaded from file rplparallel_72a7.hkl\n",
      "Object loaded from file rplparallel_72a7.hkl\n",
      "Object created\n",
      ".ns5 file loaded.\n",
      "Processing channel 009\n",
      "Calling RPLRaw for channel 009\n",
      "Object created\n",
      "Object saved to file rplraw_72a7.hkl\n",
      "Channel 009 processed\n",
      "Processing channel 031\n",
      "Calling RPLRaw for channel 031\n",
      "Object created\n",
      "Object saved to file rplraw_72a7.hkl\n",
      "Channel 031 processed\n",
      "Processing channel 034\n",
      "Calling RPLRaw for channel 034\n",
      "Object created\n",
      "Object saved to file rplraw_72a7.hkl\n",
      "Channel 034 processed\n",
      "Processing channel 056\n",
      "Calling RPLRaw for channel 056\n",
      "Object created\n",
      "Object saved to file rplraw_72a7.hkl\n",
      "Channel 056 processed\n",
      "Processing channel 072\n",
      "Calling RPLRaw for channel 072\n",
      "Object created\n",
      "Object saved to file rplraw_72a7.hkl\n",
      "Channel 072 processed\n",
      "Processing channel 093\n",
      "Calling RPLRaw for channel 093\n",
      "Object created\n",
      "Object saved to file rplraw_72a7.hkl\n",
      "Channel 093 processed\n",
      "Processing channel 119\n",
      "Calling RPLRaw for channel 119\n",
      "Object created\n",
      "Object saved to file rplraw_72a7.hkl\n",
      "Channel 119 processed\n",
      "Processing channel 120\n",
      "Calling RPLRaw for channel 120\n",
      "Object created\n",
      "Object saved to file rplraw_72a7.hkl\n",
      "Channel 120 processed\n",
      "Object saved to file rplsplit_7513.hkl\n",
      "Object created\n",
      ".ns5 file loaded.\n",
      "Processing channel 009\n",
      "Calling RPLRaw for channel 009\n",
      "Object created\n",
      "Object saved to file rplraw_72a7.hkl\n",
      "Channel 009 processed\n",
      "Processing channel 031\n",
      "Calling RPLRaw for channel 031\n",
      "Object created\n",
      "Object saved to file rplraw_72a7.hkl\n",
      "Channel 031 processed\n",
      "Processing channel 034\n",
      "Calling RPLRaw for channel 034\n",
      "Object created\n",
      "Object saved to file rplraw_72a7.hkl\n",
      "Channel 034 processed\n",
      "Processing channel 056\n",
      "Calling RPLRaw for channel 056\n",
      "Object created\n",
      "Object saved to file rplraw_72a7.hkl\n",
      "Channel 056 processed\n",
      "Processing channel 072\n",
      "Calling RPLRaw for channel 072\n",
      "Object created\n",
      "Object saved to file rplraw_72a7.hkl\n",
      "Channel 072 processed\n",
      "Processing channel 093\n",
      "Calling RPLRaw for channel 093\n",
      "Object created\n",
      "Object saved to file rplraw_72a7.hkl\n",
      "Channel 093 processed\n",
      "Processing channel 119\n",
      "Calling RPLRaw for channel 119\n",
      "Object created\n",
      "Object saved to file rplraw_72a7.hkl\n",
      "Channel 119 processed\n",
      "Processing channel 120\n",
      "Calling RPLRaw for channel 120\n",
      "Object created\n",
      "Object saved to file rplraw_72a7.hkl\n",
      "Channel 120 processed\n",
      "Object saved to file rplsplit_7513.hkl\n",
      "419.92014718055725\n"
     ]
    }
   ],
   "source": [
    "# 6b # Takes for ever and lots of RAM 😞\n",
    "t0 = time.time()\n",
    "DPT.objects.processDirs(dirs=None, objtype=pyh.RPLParallel, saveLevel=1)\n",
    "DPT.objects.processDirs(dirs=None, objtype=pyh.RPLSplit, channel=[9, 31, 34, 56, 72, 93, 119, 120], saveLevel=1)\n",
    "print(time.time() - t0)"
   ]
  },
  {
   "cell_type": "code",
   "execution_count": 5,
   "metadata": {},
   "outputs": [
    {
     "name": "stdout",
     "output_type": "stream",
     "text": [
      "Object loaded from file rplraw_72a7.hkl\n",
      "Object created\n",
      "Applying low-pass filter with frequencies 1.0 and 150.0 Hz\n",
      "Object saved to file rpllfp_e7c1.hkl\n",
      "Object loaded from file rplraw_72a7.hkl\n",
      "Object created\n",
      "Applying low-pass filter with frequencies 1.0 and 150.0 Hz\n",
      "Object saved to file rpllfp_e7c1.hkl\n",
      "Object loaded from file rplraw_72a7.hkl\n",
      "Object created\n",
      "Applying low-pass filter with frequencies 1.0 and 150.0 Hz\n",
      "Object saved to file rpllfp_e7c1.hkl\n",
      "Object loaded from file rplraw_72a7.hkl\n",
      "Object created\n",
      "Applying low-pass filter with frequencies 1.0 and 150.0 Hz\n",
      "Object saved to file rpllfp_e7c1.hkl\n",
      "Object loaded from file rplraw_72a7.hkl\n",
      "Object created\n",
      "Applying low-pass filter with frequencies 1.0 and 150.0 Hz\n",
      "Object saved to file rpllfp_e7c1.hkl\n",
      "Object loaded from file rplraw_72a7.hkl\n",
      "Object created\n",
      "Applying low-pass filter with frequencies 1.0 and 150.0 Hz\n",
      "Object saved to file rpllfp_e7c1.hkl\n",
      "Object loaded from file rplraw_72a7.hkl\n",
      "Object created\n",
      "Applying low-pass filter with frequencies 1.0 and 150.0 Hz\n",
      "Object saved to file rpllfp_e7c1.hkl\n",
      "Object loaded from file rplraw_72a7.hkl\n",
      "Object created\n",
      "Applying low-pass filter with frequencies 1.0 and 150.0 Hz\n",
      "Object saved to file rpllfp_e7c1.hkl\n",
      "Object loaded from file rplraw_72a7.hkl\n",
      "Object created\n",
      "Applying low-pass filter with frequencies 1.0 and 150.0 Hz\n",
      "Object saved to file rpllfp_e7c1.hkl\n",
      "Object loaded from file rplraw_72a7.hkl\n",
      "Object created\n",
      "Applying low-pass filter with frequencies 1.0 and 150.0 Hz\n",
      "Object saved to file rpllfp_e7c1.hkl\n",
      "Object loaded from file rplraw_72a7.hkl\n",
      "Object created\n",
      "Applying low-pass filter with frequencies 1.0 and 150.0 Hz\n",
      "Object saved to file rpllfp_e7c1.hkl\n",
      "Object loaded from file rplraw_72a7.hkl\n",
      "Object created\n",
      "Applying low-pass filter with frequencies 1.0 and 150.0 Hz\n",
      "Object saved to file rpllfp_e7c1.hkl\n",
      "Object loaded from file rplraw_72a7.hkl\n",
      "Object created\n",
      "Applying low-pass filter with frequencies 1.0 and 150.0 Hz\n",
      "Object saved to file rpllfp_e7c1.hkl\n",
      "Object loaded from file rplraw_72a7.hkl\n",
      "Object created\n",
      "Applying low-pass filter with frequencies 1.0 and 150.0 Hz\n",
      "Object saved to file rpllfp_e7c1.hkl\n",
      "Object loaded from file rplraw_72a7.hkl\n",
      "Object created\n",
      "Applying low-pass filter with frequencies 1.0 and 150.0 Hz\n",
      "Object saved to file rpllfp_e7c1.hkl\n",
      "Object loaded from file rplraw_72a7.hkl\n",
      "Object created\n",
      "Applying low-pass filter with frequencies 1.0 and 150.0 Hz\n",
      "Object saved to file rpllfp_e7c1.hkl\n",
      "Object loaded from file rplraw_72a7.hkl\n",
      "Object created\n",
      "Applying high-pass filter with frequencies 500.0 and 7500.0 Hz\n",
      "Object saved to file rplhighpass_8df8.hkl\n",
      "Object loaded from file rplraw_72a7.hkl\n",
      "Object created\n",
      "Applying high-pass filter with frequencies 500.0 and 7500.0 Hz\n",
      "Object saved to file rplhighpass_8df8.hkl\n",
      "Object loaded from file rplraw_72a7.hkl\n",
      "Object created\n",
      "Applying high-pass filter with frequencies 500.0 and 7500.0 Hz\n",
      "Object saved to file rplhighpass_8df8.hkl\n",
      "Object loaded from file rplraw_72a7.hkl\n",
      "Object created\n",
      "Applying high-pass filter with frequencies 500.0 and 7500.0 Hz\n",
      "Object saved to file rplhighpass_8df8.hkl\n",
      "Object loaded from file rplraw_72a7.hkl\n",
      "Object created\n",
      "Applying high-pass filter with frequencies 500.0 and 7500.0 Hz\n",
      "Object saved to file rplhighpass_8df8.hkl\n",
      "Object loaded from file rplraw_72a7.hkl\n",
      "Object created\n",
      "Applying high-pass filter with frequencies 500.0 and 7500.0 Hz\n",
      "Object saved to file rplhighpass_8df8.hkl\n",
      "Object loaded from file rplraw_72a7.hkl\n",
      "Object created\n",
      "Applying high-pass filter with frequencies 500.0 and 7500.0 Hz\n",
      "Object saved to file rplhighpass_8df8.hkl\n",
      "Object loaded from file rplraw_72a7.hkl\n",
      "Object created\n",
      "Applying high-pass filter with frequencies 500.0 and 7500.0 Hz\n",
      "Object saved to file rplhighpass_8df8.hkl\n",
      "Object loaded from file rplraw_72a7.hkl\n",
      "Object created\n",
      "Applying high-pass filter with frequencies 500.0 and 7500.0 Hz\n",
      "Object saved to file rplhighpass_8df8.hkl\n",
      "Object loaded from file rplraw_72a7.hkl\n",
      "Object created\n",
      "Applying high-pass filter with frequencies 500.0 and 7500.0 Hz\n",
      "Object saved to file rplhighpass_8df8.hkl\n",
      "Object loaded from file rplraw_72a7.hkl\n",
      "Object created\n",
      "Applying high-pass filter with frequencies 500.0 and 7500.0 Hz\n",
      "Object saved to file rplhighpass_8df8.hkl\n",
      "Object loaded from file rplraw_72a7.hkl\n",
      "Object created\n",
      "Applying high-pass filter with frequencies 500.0 and 7500.0 Hz\n",
      "Object saved to file rplhighpass_8df8.hkl\n",
      "Object loaded from file rplraw_72a7.hkl\n",
      "Object created\n",
      "Applying high-pass filter with frequencies 500.0 and 7500.0 Hz\n",
      "Object saved to file rplhighpass_8df8.hkl\n",
      "Object loaded from file rplraw_72a7.hkl\n",
      "Object created\n",
      "Applying high-pass filter with frequencies 500.0 and 7500.0 Hz\n",
      "Object saved to file rplhighpass_8df8.hkl\n",
      "Object loaded from file rplraw_72a7.hkl\n",
      "Object created\n",
      "Applying high-pass filter with frequencies 500.0 and 7500.0 Hz\n",
      "Object saved to file rplhighpass_8df8.hkl\n",
      "Object loaded from file rplraw_72a7.hkl\n",
      "Object created\n",
      "Applying high-pass filter with frequencies 500.0 and 7500.0 Hz\n",
      "Object saved to file rplhighpass_8df8.hkl\n",
      "98.6474838256836\n"
     ]
    }
   ],
   "source": [
    "# 6c\n",
    "t0 = time.time()\n",
    "DPT.objects.processDirs(dirs=None, objtype=pyh.RPLLFP, saveLevel=1)\n",
    "DPT.objects.processDirs(dirs=None, objtype=pyh.RPLHighPass, saveLevel=1)\n",
    "print(time.time() - t0)"
   ]
  },
  {
   "cell_type": "code",
   "execution_count": 7,
   "metadata": {},
   "outputs": [
    {
     "name": "stdout",
     "output_type": "stream",
     "text": [
      "Object created\n",
      "Object loaded from file rplparallel_72a7.hkl\n",
      "Object saved to file unity_5878.hkl\n",
      "2.9422149658203125\n"
     ]
    }
   ],
   "source": [
    "# 6d\n",
    "t0 = time.time()\n",
    "DPT.objects.processDirs(dirs=None, objtype=pyh.Unity, saveLevel=1)\n",
    "print(time.time() - t0)                        "
   ]
  },
  {
   "cell_type": "code",
   "execution_count": 10,
   "metadata": {},
   "outputs": [
    {
     "ename": "ValueError",
     "evalue": "'lab' is not in list",
     "output_type": "error",
     "traceback": [
      "\u001b[0;31m---------------------------------------------------------------------------\u001b[0m",
      "\u001b[0;31mValueError\u001b[0m                                Traceback (most recent call last)",
      "\u001b[0;32m<ipython-input-10-b3c0a244f7f7>\u001b[0m in \u001b[0;36m<module>\u001b[0;34m\u001b[0m\n\u001b[1;32m      1\u001b[0m \u001b[0;31m# 6e\u001b[0m\u001b[0;34m\u001b[0m\u001b[0;34m\u001b[0m\u001b[0;34m\u001b[0m\u001b[0m\n\u001b[1;32m      2\u001b[0m \u001b[0mt0\u001b[0m \u001b[0;34m=\u001b[0m \u001b[0mtime\u001b[0m\u001b[0;34m.\u001b[0m\u001b[0mtime\u001b[0m\u001b[0;34m(\u001b[0m\u001b[0;34m)\u001b[0m\u001b[0;34m\u001b[0m\u001b[0;34m\u001b[0m\u001b[0m\n\u001b[0;32m----> 3\u001b[0;31m \u001b[0mpyh\u001b[0m\u001b[0;34m.\u001b[0m\u001b[0mEDFSplit\u001b[0m\u001b[0;34m(\u001b[0m\u001b[0msaveLevel\u001b[0m\u001b[0;34m=\u001b[0m\u001b[0;36m1\u001b[0m\u001b[0;34m)\u001b[0m\u001b[0;34m\u001b[0m\u001b[0;34m\u001b[0m\u001b[0m\n\u001b[0m\u001b[1;32m      4\u001b[0m \u001b[0mprint\u001b[0m\u001b[0;34m(\u001b[0m\u001b[0mtime\u001b[0m\u001b[0;34m.\u001b[0m\u001b[0mtime\u001b[0m\u001b[0;34m(\u001b[0m\u001b[0;34m)\u001b[0m \u001b[0;34m-\u001b[0m \u001b[0mt0\u001b[0m\u001b[0;34m)\u001b[0m\u001b[0;34m\u001b[0m\u001b[0;34m\u001b[0m\u001b[0m\n",
      "\u001b[0;32m~/Documents/Python/PyHipp/PyHipp/eyelink.py\u001b[0m in \u001b[0;36m__init__\u001b[0;34m(self, *args, **kwargs)\u001b[0m\n\u001b[1;32m     21\u001b[0m     \u001b[0;32mdef\u001b[0m \u001b[0m__init__\u001b[0m\u001b[0;34m(\u001b[0m\u001b[0mself\u001b[0m\u001b[0;34m,\u001b[0m \u001b[0;34m*\u001b[0m\u001b[0margs\u001b[0m\u001b[0;34m,\u001b[0m \u001b[0;34m**\u001b[0m\u001b[0mkwargs\u001b[0m\u001b[0;34m)\u001b[0m\u001b[0;34m:\u001b[0m\u001b[0;34m\u001b[0m\u001b[0;34m\u001b[0m\u001b[0m\n\u001b[1;32m     22\u001b[0m         \u001b[0;31m# resolve levels into the day directory for creation of edfsplit object\u001b[0m\u001b[0;34m\u001b[0m\u001b[0;34m\u001b[0m\u001b[0;34m\u001b[0m\u001b[0m\n\u001b[0;32m---> 23\u001b[0;31m         \u001b[0mrr\u001b[0m \u001b[0;34m=\u001b[0m \u001b[0mDPT\u001b[0m\u001b[0;34m.\u001b[0m\u001b[0mlevels\u001b[0m\u001b[0;34m.\u001b[0m\u001b[0mresolve_level\u001b[0m\u001b[0;34m(\u001b[0m\u001b[0mself\u001b[0m\u001b[0;34m.\u001b[0m\u001b[0mlevel\u001b[0m\u001b[0;34m,\u001b[0m \u001b[0mos\u001b[0m\u001b[0;34m.\u001b[0m\u001b[0mgetcwd\u001b[0m\u001b[0;34m(\u001b[0m\u001b[0;34m)\u001b[0m\u001b[0;34m)\u001b[0m\u001b[0;34m\u001b[0m\u001b[0;34m\u001b[0m\u001b[0m\n\u001b[0m\u001b[1;32m     24\u001b[0m         \u001b[0;32mwith\u001b[0m \u001b[0mDPT\u001b[0m\u001b[0;34m.\u001b[0m\u001b[0mmisc\u001b[0m\u001b[0;34m.\u001b[0m\u001b[0mCWD\u001b[0m\u001b[0;34m(\u001b[0m\u001b[0mrr\u001b[0m\u001b[0;34m)\u001b[0m\u001b[0;34m:\u001b[0m\u001b[0;34m\u001b[0m\u001b[0;34m\u001b[0m\u001b[0m\n\u001b[1;32m     25\u001b[0m             \u001b[0mDPT\u001b[0m\u001b[0;34m.\u001b[0m\u001b[0mDPObject\u001b[0m\u001b[0;34m.\u001b[0m\u001b[0m__init__\u001b[0m\u001b[0;34m(\u001b[0m\u001b[0mself\u001b[0m\u001b[0;34m,\u001b[0m \u001b[0;34m*\u001b[0m\u001b[0margs\u001b[0m\u001b[0;34m,\u001b[0m \u001b[0;34m**\u001b[0m\u001b[0mkwargs\u001b[0m\u001b[0;34m)\u001b[0m\u001b[0;34m\u001b[0m\u001b[0;34m\u001b[0m\u001b[0m\n",
      "\u001b[0;32m~/Documents/Python/DataProcessingTools/DataProcessingTools/levels.py\u001b[0m in \u001b[0;36mresolve_level\u001b[0;34m(target_level, cwd)\u001b[0m\n\u001b[1;32m     94\u001b[0m         \u001b[0mcwd\u001b[0m \u001b[0;34m=\u001b[0m \u001b[0mos\u001b[0m\u001b[0;34m.\u001b[0m\u001b[0mgetcwd\u001b[0m\u001b[0;34m(\u001b[0m\u001b[0;34m)\u001b[0m\u001b[0;34m\u001b[0m\u001b[0;34m\u001b[0m\u001b[0m\n\u001b[1;32m     95\u001b[0m     \u001b[0mthis_level\u001b[0m \u001b[0;34m=\u001b[0m \u001b[0mlevel\u001b[0m\u001b[0;34m(\u001b[0m\u001b[0mcwd\u001b[0m\u001b[0;34m)\u001b[0m\u001b[0;34m\u001b[0m\u001b[0;34m\u001b[0m\u001b[0m\n\u001b[0;32m---> 96\u001b[0;31m     \u001b[0mthis_idx\u001b[0m \u001b[0;34m=\u001b[0m \u001b[0mlevels\u001b[0m\u001b[0;34m.\u001b[0m\u001b[0mindex\u001b[0m\u001b[0;34m(\u001b[0m\u001b[0mthis_level\u001b[0m\u001b[0;34m)\u001b[0m\u001b[0;34m\u001b[0m\u001b[0;34m\u001b[0m\u001b[0m\n\u001b[0m\u001b[1;32m     97\u001b[0m     \u001b[0mtarget_idx\u001b[0m \u001b[0;34m=\u001b[0m \u001b[0mlevels\u001b[0m\u001b[0;34m.\u001b[0m\u001b[0mindex\u001b[0m\u001b[0;34m(\u001b[0m\u001b[0mtarget_level\u001b[0m\u001b[0;34m)\u001b[0m\u001b[0;34m\u001b[0m\u001b[0;34m\u001b[0m\u001b[0m\n\u001b[1;32m     98\u001b[0m     \u001b[0mpl\u001b[0m \u001b[0;34m=\u001b[0m \u001b[0;34m[\u001b[0m\u001b[0;34m\".\"\u001b[0m\u001b[0;34m]\u001b[0m\u001b[0;34m\u001b[0m\u001b[0;34m\u001b[0m\u001b[0m\n",
      "\u001b[0;31mValueError\u001b[0m: 'lab' is not in list"
     ]
    }
   ],
   "source": [
    "# 6e\n",
    "t0 = time.time()\n",
    "pyh.EDFSplit(saveLevel=1)\n",
    "print(time.time() - t0)"
   ]
  },
  {
   "cell_type": "code",
   "execution_count": 11,
   "metadata": {},
   "outputs": [
    {
     "name": "stdout",
     "output_type": "stream",
     "text": [
      "[Errno 2] No such file or directory: 'session01'\n",
      "/home/chen/Documents/ee3801-data-engineering-principles-labs/lab_5\n"
     ]
    }
   ],
   "source": [
    "cd session01"
   ]
  },
  {
   "cell_type": "code",
   "execution_count": null,
   "metadata": {},
   "outputs": [],
   "source": []
  }
 ],
 "metadata": {
  "kernelspec": {
   "display_name": "Python 3",
   "language": "python",
   "name": "python3"
  },
  "language_info": {
   "codemirror_mode": {
    "name": "ipython",
    "version": 3
   },
   "file_extension": ".py",
   "mimetype": "text/x-python",
   "name": "python",
   "nbconvert_exporter": "python",
   "pygments_lexer": "ipython3",
   "version": "3.7.6"
  }
 },
 "nbformat": 4,
 "nbformat_minor": 4
}
