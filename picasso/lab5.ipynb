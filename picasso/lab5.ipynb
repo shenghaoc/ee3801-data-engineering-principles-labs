{
 "cells": [
  {
   "cell_type": "code",
   "execution_count": 1,
   "metadata": {},
   "outputs": [],
   "source": [
    "import numpy as np\n",
    "import matplotlib.pyplot as plt\n",
    "from pyedfread import edf\n",
    "from neo.io import BlackrockIO\n",
    "import DataProcessingTools as DPT\n",
    "import time\n",
    "import PyHipp as pyh\n",
    "from importlib import reload"
   ]
  },
  {
   "cell_type": "code",
   "execution_count": 2,
   "metadata": {
    "scrolled": true
   },
   "outputs": [
    {
     "ename": "SyntaxError",
     "evalue": "invalid syntax (<ipython-input-2-0ca49587fe0a>, line 2)",
     "output_type": "error",
     "traceback": [
      "\u001b[0;36m  File \u001b[0;32m\"<ipython-input-2-0ca49587fe0a>\"\u001b[0;36m, line \u001b[0;32m2\u001b[0m\n\u001b[0;31m    cd ~/Documents/ee3801-data-engineering-principles-labs/picasso/session01\u001b[0m\n\u001b[0m       ^\u001b[0m\n\u001b[0;31mSyntaxError\u001b[0m\u001b[0;31m:\u001b[0m invalid syntax\n"
     ]
    }
   ],
   "source": [
    "# 2a\n",
    "cd ~/Documents/ee3801-data-engineering-principles-labs/picasso/session01"
   ]
  },
  {
   "cell_type": "code",
   "execution_count": null,
   "metadata": {},
   "outputs": [],
   "source": [
    "# 2c\n",
    "cd RawData_T1-400\n",
    "data = np.loadtxt(\"session_1_5112018105323.txt\", skiprows=14)"
   ]
  },
  {
   "cell_type": "code",
   "execution_count": null,
   "metadata": {},
   "outputs": [],
   "source": [
    "# 2d\n",
    "uind = np.arange(300)"
   ]
  },
  {
   "cell_type": "code",
   "execution_count": null,
   "metadata": {},
   "outputs": [],
   "source": [
    "# 2e\n",
    "ut = np.cumsum(data[uind,1])"
   ]
  },
  {
   "cell_type": "code",
   "execution_count": null,
   "metadata": {},
   "outputs": [],
   "source": [
    "# 2h NEED TO SUBMIT\n",
    "plt.figure()\n",
    "plt.subplot(3,1,1)\n",
    "plt.plot(ut,data[uind,2])\n",
    "plt.xlabel('Time (s)')\n",
    "plt.ylabel('X-Pos')\n",
    "mi = data[uind,0].nonzero()\n",
    "yl = plt.ylim()\n",
    "t2 = ut[mi[0][1:]]\n",
    "pt2 = np.kron(np.ones((2,1)),t2)\n",
    "py2 = np.kron(np.ones((np.size(pt2,1),1)),yl).transpose()\n",
    "plt.plot(pt2,py2)\n",
    "\n",
    "plt.subplot(3,1,2)\n",
    "plt.plot(ut,data[uind,3])\n",
    "plt.xlabel('Time (s)')\n",
    "plt.ylabel('Y-Pos')\n",
    "yl = plt.ylim()\n",
    "py2 = np.kron(np.ones((np.size(pt2,1),1)),yl).transpose()\n",
    "plt.plot(pt2,py2)\n",
    "\n",
    "plt.subplot(3,1,3)\n",
    "plt.plot(ut,data[uind,4])\n",
    "plt.xlabel('Time (s)')\n",
    "plt.ylabel('Orientation')\n",
    "yl = plt.ylim()\n",
    "py2 = np.kron(np.ones((np.size(pt2,1),1)),yl).transpose()\n",
    "plt.plot(pt2,py2)"
   ]
  },
  {
   "cell_type": "code",
   "execution_count": null,
   "metadata": {},
   "outputs": [],
   "source": [
    "# 2g NEED TO WRITE AND SUBMIT\n",
    "from matplotlib.patches import Rectangle, Circle\n",
    "plt.figure()\n",
    "currentAxis = plt.gca()\n",
    "\n",
    "# Draw maze boundaries\n",
    "currentAxis.add_patch(Rectangle((-12.5, -12.5), 25, 25, fill=None,lw=2))\n",
    "\n",
    "# Draw pillars inside maze\n",
    "currentAxis.add_patch(Rectangle((-7.5, 2.5), 5, 5, fill=None,ec='yellow'))\n",
    "currentAxis.add_patch(Rectangle((-7.5, -7.5), 5, 5, fill=None, ec='blue'))\n",
    "currentAxis.add_patch(Rectangle((2.5, 2.5), 5, 5, fill=None, ec='red'))\n",
    "currentAxis.add_patch(Rectangle((2.5, -7.5), 5, 5, fill=None, ec='green'))\n",
    "\n",
    "# Add marker to last point\n",
    "currentAxis.add_patch(Circle((data[uind,2][-1],data[uind,3][-1]), radius=0.25, color='orange'))\n",
    "\n",
    "# Add text labels to mark locations of posters\n",
    "plt.text(-5, -8.75, '1')\n",
    "plt.text(-8.25, 5, '2')\n",
    "plt.text(7.5, -5, '3')\n",
    "plt.text(5, 7.75, '4')\n",
    "plt.text(5, 1.25, '5')\n",
    "plt.text(-5, -2, '6')\n",
    "\n",
    "# Plot position data\n",
    "plt.plot(data[uind,2],data[uind,3])"
   ]
  },
  {
   "cell_type": "code",
   "execution_count": null,
   "metadata": {},
   "outputs": [],
   "source": [
    "# 3a\n",
    "cd ../.."
   ]
  },
  {
   "cell_type": "code",
   "execution_count": null,
   "metadata": {},
   "outputs": [],
   "source": [
    "# 3b\n",
    "samples, events, messages = edf.pread('181105.edf', trial_marker=b'Start Trial')"
   ]
  },
  {
   "cell_type": "code",
   "execution_count": null,
   "metadata": {},
   "outputs": [],
   "source": [
    "# 3c\n",
    "samples.columns\n",
    "samples[['time','gx_left','gy_left']][0:9]"
   ]
  },
  {
   "cell_type": "code",
   "execution_count": null,
   "metadata": {},
   "outputs": [],
   "source": [
    "# 3d\n",
    "events[['type','start','end']][0:9]"
   ]
  },
  {
   "cell_type": "code",
   "execution_count": null,
   "metadata": {},
   "outputs": [],
   "source": [
    "# 3e\n",
    "messages[['trialid_time','Cue_time','End_time','Timeout_time']][0:9]\n",
    "messages['RECCFG'][0][1]"
   ]
  },
  {
   "cell_type": "code",
   "execution_count": null,
   "metadata": {},
   "outputs": [],
   "source": [
    "# 3f\n",
    "esr = int(messages['RECCFG'][0][1])\n",
    "samples['time'] = samples['time']/esr\n",
    "events[['start','end']] = events[['start','end']]/esr\n",
    "messages[['trialid_time','Cue_time','End_time']] = messages[['trialid_time','Cue_time','End_time']]/esr"
   ]
  },
  {
   "cell_type": "code",
   "execution_count": null,
   "metadata": {},
   "outputs": [],
   "source": [
    "# 3g\n",
    "eind = np.arange(15000)\n",
    "ex = samples['gx_left'][eind]\n",
    "et = samples['time'][eind]\n",
    "plt.plot(et,ex)\n",
    "plt.xlabel('Time (s)')\n",
    "plt.ylabel('Eye Position X')"
   ]
  },
  {
   "cell_type": "code",
   "execution_count": null,
   "metadata": {},
   "outputs": [],
   "source": [
    "# 3h\n",
    "ex[ex>1920] = np.nan\n",
    "ex[ex<0] = np.nan"
   ]
  },
  {
   "cell_type": "code",
   "execution_count": null,
   "metadata": {},
   "outputs": [],
   "source": [
    "# 3i\n",
    "ax = plt.gca()\n",
    "ax.clear()\n",
    "plt.plot(et,ex)\n",
    "plt.xlabel('Time (s)')\n",
    "plt.ylabel('Eye Position X')"
   ]
  },
  {
   "cell_type": "code",
   "execution_count": null,
   "metadata": {},
   "outputs": [],
   "source": [
    "# 3j\n",
    "yl = plt.ylim()\n",
    "xval = events['start'][0]\n",
    "plt.plot([xval,xval],yl)\n",
    "xval = events['end'][0]\n",
    "plt.plot([xval,xval],yl)"
   ]
  },
  {
   "cell_type": "code",
   "execution_count": null,
   "metadata": {},
   "outputs": [],
   "source": [
    "# 3k\n",
    "xval = events['start'][1]\n",
    "plt.plot([xval,xval],yl)\n",
    "xval = events['end'][1]\n",
    "plt.plot([xval,xval],yl)"
   ]
  },
  {
   "cell_type": "code",
   "execution_count": null,
   "metadata": {},
   "outputs": [],
   "source": [
    "# 3m\n",
    "xval = messages['trialid_time'][1]\n",
    "plt.plot([xval,xval],yl)\n",
    "xval = messages['Cue_time'][1]\n",
    "plt.plot([xval,xval],yl)\n",
    "xval = messages['End_time'][1]\n",
    "plt.plot([xval,xval],yl)"
   ]
  },
  {
   "cell_type": "code",
   "execution_count": null,
   "metadata": {},
   "outputs": [],
   "source": [
    "# 3n NEED TO WRITE AND SUBMIT"
   ]
  },
  {
   "cell_type": "code",
   "execution_count": null,
   "metadata": {},
   "outputs": [],
   "source": [
    "# File loading step\n",
    "reader = BlackrockIO('picasso/session01/181105_Block1.ns5')"
   ]
  },
  {
   "cell_type": "code",
   "execution_count": null,
   "metadata": {},
   "outputs": [],
   "source": [
    "# 4c\n",
    "bl = reader.read_block(lazy = True)\n",
    "bl"
   ]
  },
  {
   "cell_type": "code",
   "execution_count": null,
   "metadata": {},
   "outputs": [],
   "source": [
    "# 4d\n",
    "bl.segments[0].analogsignals[1].shape"
   ]
  },
  {
   "cell_type": "code",
   "execution_count": null,
   "metadata": {},
   "outputs": [],
   "source": [
    "# 4e\n",
    "data = np.array(bl.segments[0].analogsignals[1].load(time_slice=None, channel_indexes=[2]))"
   ]
  },
  {
   "cell_type": "code",
   "execution_count": null,
   "metadata": {},
   "outputs": [],
   "source": [
    "# 4f\n",
    "sr = float(bl.segments[0].analogsignals[1].sampling_rate)\n",
    "sr"
   ]
  },
  {
   "cell_type": "code",
   "execution_count": null,
   "metadata": {},
   "outputs": [],
   "source": [
    "# File loading step\n",
    "reader = BlackrockIO('picasso/session01/181105_Block1.nev')"
   ]
  },
  {
   "cell_type": "code",
   "execution_count": null,
   "metadata": {},
   "outputs": [],
   "source": [
    "# 4g\n",
    "ev_rawtimes, _, ev_markers = reader.get_event_timestamps()"
   ]
  },
  {
   "cell_type": "code",
   "execution_count": null,
   "metadata": {},
   "outputs": [],
   "source": [
    "# 4h\n",
    "ev_markers[0:9]"
   ]
  },
  {
   "cell_type": "code",
   "execution_count": null,
   "metadata": {},
   "outputs": [],
   "source": [
    "# 4i\n",
    "ev_rawtimes[0:9]"
   ]
  },
  {
   "cell_type": "code",
   "execution_count": null,
   "metadata": {},
   "outputs": [],
   "source": [
    "# 4j NEED TO WRITE AND SUBMIT"
   ]
  },
  {
   "cell_type": "code",
   "execution_count": null,
   "metadata": {},
   "outputs": [],
   "source": [
    "# 5a NEED TO WRITE AND SUBMIT"
   ]
  },
  {
   "cell_type": "code",
   "execution_count": null,
   "metadata": {},
   "outputs": [],
   "source": [
    "# 5b NEED TO WRITE AND SUBMIT"
   ]
  },
  {
   "cell_type": "code",
   "execution_count": null,
   "metadata": {},
   "outputs": [],
   "source": [
    "# 6b # Takes for ever and lots of RAM 😞\n",
    "t0 = time.time()\n",
    "DPT.objects.processDirs(dirs=None, objtype=pyh.RPLParallel, saveLevel=1)\n",
    "DPT.objects.processDirs(dirs=None, objtype=pyh.RPLSplit, channel=[9, 31, 34, 56, 72, 93, 119, 120], saveLevel=1)\n",
    "print(time.time() - t0)"
   ]
  },
  {
   "cell_type": "code",
   "execution_count": null,
   "metadata": {},
   "outputs": [],
   "source": [
    "# 6c\n",
    "t0 = time.time()\n",
    "DPT.objects.processDirs(dirs=None, objtype=pyh.RPLLFP, saveLevel=1)\n",
    "DPT.objects.processDirs(dirs=None, objtype=pyh.RPLHighPass, saveLevel=1)\n",
    "print(time.time() - t0)"
   ]
  },
  {
   "cell_type": "code",
   "execution_count": null,
   "metadata": {},
   "outputs": [],
   "source": [
    "# 6d\n",
    "t0 = time.time()\n",
    "DPT.objects.processDirs(dirs=None, objtype=pyh.Unity, saveLevel=1)\n",
    "print(time.time() - t0)                        "
   ]
  },
  {
   "cell_type": "code",
   "execution_count": null,
   "metadata": {},
   "outputs": [],
   "source": [
    "# 6e\n",
    "t0 = time.time()\n",
    "pyh.EDFSplit(saveLevel=1)\n",
    "print(time.time() - t0)"
   ]
  },
  {
   "cell_type": "code",
   "execution_count": null,
   "metadata": {},
   "outputs": [],
   "source": [
    "# 6f\n",
    "cd session01\n",
    "t0 = time.time()\n",
    "pyh.aligning_objects()\n",
    "print(time.time() - t0)"
   ]
  },
  {
   "cell_type": "code",
   "execution_count": null,
   "metadata": {},
   "outputs": [],
   "source": [
    "# 7a\n",
    "uy = pyh.Unity()\n",
    "puy = PanGUI.create_window(uy)\n",
    "puy.show()"
   ]
  },
  {
   "cell_type": "code",
   "execution_count": null,
   "metadata": {},
   "outputs": [],
   "source": [
    "# 7b\n",
    "el = pyh.Eyelink()\n",
    "pel = PanGUI.create_window(el)"
   ]
  },
  {
   "cell_type": "code",
   "execution_count": null,
   "metadata": {},
   "outputs": [],
   "source": [
    "# 7c\n",
    "cd array01/channel009\n",
    "vr = pyh.VMRaw()\n",
    "pvr = PanGUI.create_window(vr)"
   ]
  },
  {
   "cell_type": "code",
   "execution_count": null,
   "metadata": {},
   "outputs": [],
   "source": [
    "# 7d\n",
    "vl = pyh.VMLFP()\n",
    "pvl = PanGUI.create_window(vl)"
   ]
  },
  {
   "cell_type": "code",
   "execution_count": null,
   "metadata": {},
   "outputs": [],
   "source": [
    "# 7e\n",
    "vh = pyh.VMHighPass()\n",
    "pvh = PanGUI.create_window(vh)"
   ]
  },
  {
   "cell_type": "code",
   "execution_count": null,
   "metadata": {},
   "outputs": [],
   "source": [
    "# 7f\n",
    "pfour = PanGUI.create_window([uy, vr, vl, vh], **{'PlotType' : 'X-T'}, linkxaxes=[1, 1, 1, 1])\n",
    "reload(PanGUI)"
   ]
  },
  {
   "cell_type": "code",
   "execution_count": null,
   "metadata": {},
   "outputs": [],
   "source": []
  }
 ],
 "metadata": {
  "kernelspec": {
   "display_name": "Python 3",
   "language": "python",
   "name": "python3"
  },
  "language_info": {
   "codemirror_mode": {
    "name": "ipython",
    "version": 3
   },
   "file_extension": ".py",
   "mimetype": "text/x-python",
   "name": "python",
   "nbconvert_exporter": "python",
   "pygments_lexer": "ipython3",
   "version": "3.7.6"
  }
 },
 "nbformat": 4,
 "nbformat_minor": 4
}
