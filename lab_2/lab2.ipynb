{
 "cells": [
  {
   "cell_type": "code",
   "execution_count": 5,
   "metadata": {
    "collapsed": true
   },
   "outputs": [
    {
     "data": {
      "text/plain": "         0         1         2         3         4         5         6   \\\n0  0.440965  0.616509  0.885729  0.812958  0.790941  0.018577  0.531970   \n1  0.429471  0.380053  0.757797  0.621560  0.826007  0.361362  0.444877   \n\n         7         8         9   ...        90        91        92        93  \\\n0  0.047984  0.405431  0.372382  ...  0.710364  0.103109  0.670740  0.751406   \n1  0.323571  0.581262  0.281334  ...  0.298380  0.936562  0.619044  0.454470   \n\n         94        95        96        97        98        99  \n0  0.395116  0.748238  0.176922  0.878434  0.559498  0.592455  \n1  0.394428  0.106188  0.722268  0.006353  0.745170  0.969016  \n\n[2 rows x 100 columns]",
      "text/html": "<div>\n<style scoped>\n    .dataframe tbody tr th:only-of-type {\n        vertical-align: middle;\n    }\n\n    .dataframe tbody tr th {\n        vertical-align: top;\n    }\n\n    .dataframe thead th {\n        text-align: right;\n    }\n</style>\n<table border=\"1\" class=\"dataframe\">\n  <thead>\n    <tr style=\"text-align: right;\">\n      <th></th>\n      <th>0</th>\n      <th>1</th>\n      <th>2</th>\n      <th>3</th>\n      <th>4</th>\n      <th>5</th>\n      <th>6</th>\n      <th>7</th>\n      <th>8</th>\n      <th>9</th>\n      <th>...</th>\n      <th>90</th>\n      <th>91</th>\n      <th>92</th>\n      <th>93</th>\n      <th>94</th>\n      <th>95</th>\n      <th>96</th>\n      <th>97</th>\n      <th>98</th>\n      <th>99</th>\n    </tr>\n  </thead>\n  <tbody>\n    <tr>\n      <th>0</th>\n      <td>0.440965</td>\n      <td>0.616509</td>\n      <td>0.885729</td>\n      <td>0.812958</td>\n      <td>0.790941</td>\n      <td>0.018577</td>\n      <td>0.531970</td>\n      <td>0.047984</td>\n      <td>0.405431</td>\n      <td>0.372382</td>\n      <td>...</td>\n      <td>0.710364</td>\n      <td>0.103109</td>\n      <td>0.670740</td>\n      <td>0.751406</td>\n      <td>0.395116</td>\n      <td>0.748238</td>\n      <td>0.176922</td>\n      <td>0.878434</td>\n      <td>0.559498</td>\n      <td>0.592455</td>\n    </tr>\n    <tr>\n      <th>1</th>\n      <td>0.429471</td>\n      <td>0.380053</td>\n      <td>0.757797</td>\n      <td>0.621560</td>\n      <td>0.826007</td>\n      <td>0.361362</td>\n      <td>0.444877</td>\n      <td>0.323571</td>\n      <td>0.581262</td>\n      <td>0.281334</td>\n      <td>...</td>\n      <td>0.298380</td>\n      <td>0.936562</td>\n      <td>0.619044</td>\n      <td>0.454470</td>\n      <td>0.394428</td>\n      <td>0.106188</td>\n      <td>0.722268</td>\n      <td>0.006353</td>\n      <td>0.745170</td>\n      <td>0.969016</td>\n    </tr>\n  </tbody>\n</table>\n<p>2 rows × 100 columns</p>\n</div>"
     },
     "execution_count": 5,
     "metadata": {},
     "output_type": "execute_result"
    }
   ],
   "source": [
    "import pandas as pd\n",
    "import numpy as np"
   ]
  },
  {
   "cell_type": "code",
   "execution_count": 4,
   "outputs": [],
   "source": [],
   "metadata": {
    "collapsed": false,
    "pycharm": {
     "name": "#%%\n"
    }
   }
  }
 ],
 "metadata": {
  "kernelspec": {
   "display_name": "Python 3",
   "language": "python",
   "name": "python3"
  },
  "language_info": {
   "codemirror_mode": {
    "name": "ipython",
    "version": 2
   },
   "file_extension": ".py",
   "mimetype": "text/x-python",
   "name": "python",
   "nbconvert_exporter": "python",
   "pygments_lexer": "ipython2",
   "version": "2.7.6"
  }
 },
 "nbformat": 4,
 "nbformat_minor": 0
}