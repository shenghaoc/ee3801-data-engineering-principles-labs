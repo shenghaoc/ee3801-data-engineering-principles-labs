{
 "cells": [
  {
   "cell_type": "code",
   "execution_count": 1,
   "metadata": {
    "collapsed": false,
    "jupyter": {
     "outputs_hidden": false
    },
    "pycharm": {
     "name": "#%%\n"
    }
   },
   "outputs": [],
   "source": [
    "import pandas as pd\n",
    "import matplotlib.pyplot as plt\n",
    "import numpy as np"
   ]
  },
  {
   "cell_type": "code",
   "execution_count": 2,
   "metadata": {
    "collapsed": false,
    "jupyter": {
     "outputs_hidden": false
    },
    "pycharm": {
     "name": "#%%\n"
    }
   },
   "outputs": [],
   "source": [
    "fao = pd.read_csv('FAO.csv', encoding= 'unicode_escape')"
   ]
  },
  {
   "cell_type": "code",
   "execution_count": 3,
   "metadata": {
    "collapsed": false,
    "jupyter": {
     "outputs_hidden": false
    },
    "pycharm": {
     "name": "#%%\n"
    }
   },
   "outputs": [],
   "source": [
    "# 1(a)\n",
    "overall_annual_food_production = fao.groupby(\"Area\").sum().astype(int)\n",
    "overall_annual_food_production.to_csv('overall_annual_food_production.csv')"
   ]
  },
  {
   "cell_type": "code",
   "execution_count": 4,
   "metadata": {},
   "outputs": [],
   "source": [
    "#1(b)\n",
    "overall_food_production = overall_annual_food_production.sum(axis=1).rename('OPC')"
   ]
  },
  {
   "cell_type": "code",
   "execution_count": 5,
   "metadata": {},
   "outputs": [],
   "source": [
    "#1(c)\n",
    "average_food_production = overall_annual_food_production.mean(axis=1).astype(int).rename('APPYPC')"
   ]
  },
  {
   "cell_type": "code",
   "execution_count": 6,
   "metadata": {},
   "outputs": [],
   "source": [
    "#1(d)\n",
    "overall_food_production_sum = overall_food_production.sum()\n",
    "percentage_food_production = overall_food_production.rename('GAPPC')/overall_food_production_sum"
   ]
  },
  {
   "cell_type": "code",
   "execution_count": 7,
   "metadata": {},
   "outputs": [
    {
     "name": "stdout",
     "output_type": "stream",
     "text": [
      "                 OPC  APPYPC GAPPC\n",
      "Area                              \n",
      "Afghanistan   689162   13003 0.18%\n",
      "Albania       237202    4475 0.06%\n",
      "Algeria      1530613   28879 0.40%\n",
      "Yemen         459785    8675 0.12%\n",
      "Zambia        315687    5956 0.08%\n",
      "Zimbabwe      351093    6624 0.09%\n"
     ]
    }
   ],
   "source": [
    "overall_and_average_and_percentage_food_production = pd.concat([overall_food_production,\n",
    "                                                               average_food_production,\n",
    "                                                               percentage_food_production],\n",
    "                                                               axis=1)\n",
    "print(overall_and_average_and_percentage_food_production.head(3).append(overall_and_average_and_percentage_food_production.tail(3)).to_string(formatters={'GAPPC':'{:,.2%}'.format}))"
   ]
  },
  {
   "cell_type": "code",
   "execution_count": null,
   "metadata": {},
   "outputs": [],
   "source": [
    "# 2\n",
    "overall_and_average_and_percentage_food_production['APPYPC'].plot(kind='bar', figsize=(30,10), title='Overall production by country', legend=True)\n",
    "plt.xlabel('Countries')\n",
    "plt.ylabel('Food Production')\n",
    "# max_val = overall_and_average_and_percentage_food_production['APPYPC'].idxmax()\n",
    "# min_val = overall_and_average_and_percentage_food_production['APPYPC'].idxmin()\n",
    "plt.show()"
   ]
  },
  {
   "cell_type": "code",
   "execution_count": null,
   "metadata": {},
   "outputs": [],
   "source": [
    "# 3\n",
    "overall_and_average_and_percentage_food_production['GAPPC'].plot(kind='pie', figsize=(30,30), title='Overall production by country', legend=True,  labeldistance=None)\n",
    "plt.legend(ncol=2,bbox_to_anchor=(1.05, 1))\n",
    "plt.show()"
   ]
  },
  {
   "cell_type": "code",
   "execution_count": null,
   "metadata": {},
   "outputs": [],
   "source": [
    "# 4\n",
    "\n",
    "percentage_food_production_simplified = overall_and_average_and_percentage_food_production['GAPPC'].copy()\n",
    "\n",
    "sum_less_than_five_percent = percentage_food_production_simplified[percentage_food_production_simplified <= 0.05].sum()\n",
    "percentage_food_production_simplified =percentage_food_production_simplified[percentage_food_production_simplified > 0.05].append(pd.Series([sum_less_than_five_percent], index=['Others']))\n",
    "\n",
    "percentage_food_production_simplified.plot(kind='pie', title='Overall production by country', autopct=\"%.2f%%\")\n",
    "plt.show()"
   ]
  },
  {
   "cell_type": "code",
   "execution_count": null,
   "metadata": {},
   "outputs": [],
   "source": [
    "# 5(a)\n",
    "overall_annual_honey_production_2010_to_2013 = fao[fao['Item']=='Honey'].set_index('Area').loc[:,'Y2010':'Y2013']\n",
    "overall_annual_honey_production_2010_to_2013 = overall_annual_honey_production_2010_to_2013[(overall_annual_honey_production_2010_to_2013 != 0).all(1)]\n",
    "print(overall_annual_honey_production_2010_to_2013.head(3).append(overall_annual_honey_production_2010_to_2013.tail(3)).to_string())"
   ]
  },
  {
   "cell_type": "code",
   "execution_count": null,
   "metadata": {},
   "outputs": [],
   "source": [
    "# 5(b)\n",
    "overall_honey_production_2010_to_2013 = overall_annual_honey_production_2010_to_2013.sum(1).rename('Sum Total')\n",
    "overall_annual_honey_production_2010_to_2013 = pd.concat([overall_annual_honey_production_2010_to_2013, overall_honey_production_2010_to_2013], axis=1)\n",
    "overall_annual_honey_production_2010_to_2013.to_csv('overall_annual_honey_production_2010_to_2013.csv')\n",
    "print(overall_annual_honey_production_2010_to_2013.head(3).append(overall_annual_honey_production_2010_to_2013.tail(3)).to_string())"
   ]
  },
  {
   "cell_type": "code",
   "execution_count": null,
   "metadata": {},
   "outputs": [],
   "source": [
    "# 5(c)\n",
    "overall_honey_production_sum_2010_to_2013 = overall_honey_production_2010_to_2013.sum()\n",
    "percentage_honey_production_2010_to_2013 = overall_honey_production_2010_to_2013/overall_honey_production_sum_2010_to_2013\n",
    "\n",
    "sum_less_than_five_percent_2010_to_2013 = percentage_honey_production_2010_to_2013[percentage_honey_production_2010_to_2013 <= 0.05].sum()\n",
    "percentage_honey_production_2010_to_2013 =percentage_honey_production_2010_to_2013[percentage_honey_production_2010_to_2013 > 0.05].append(pd.Series([sum_less_than_five_percent_2010_to_2013], index=['Others']))\n",
    "\n",
    "percentage_honey_production_2010_to_2013.plot(kind='pie', title='Overall production by country', autopct=\"%.2f%%\",figsize=(10,10), legend=True)\n",
    "# plt.show()"
   ]
  },
  {
   "cell_type": "code",
   "execution_count": null,
   "metadata": {},
   "outputs": [],
   "source": [
    "# 6(a)\n",
    "\n",
    "overall_annual_sugar_related_production_2010_to_2013 = fao.loc[:,['Area','Item','Element','Y2010', 'Y2011', 'Y2012', 'Y2013']][fao.Item.str.contains('sugar',case=False,regex=False)]\n",
    "\n",
    "overall_annual_sugar_related_production_2010_to_2013_malaysia = overall_annual_sugar_related_production_2010_to_2013[overall_annual_sugar_related_production_2010_to_2013['Area']=='Malaysia']\\\n",
    ".groupby(['Area', 'Element'], as_index=False).sum().rename(columns={\"Area\": \"Country\", \"Element\": \"Food Type\"}).set_index('Country')\n",
    "overall_annual_sugar_related_production_2010_to_2013_france = overall_annual_sugar_related_production_2010_to_2013[overall_annual_sugar_related_production_2010_to_2013['Area']=='France']\\\n",
    ".groupby(['Area', 'Element'], as_index=False).sum().rename(columns={\"Area\": \"Country\", \"Element\": \"Food Type\"}).set_index('Country')\n",
    "print(overall_annual_sugar_related_production_2010_to_2013_malaysia)\n",
    "print(overall_annual_sugar_related_production_2010_to_2013_france)"
   ]
  },
  {
   "cell_type": "code",
   "execution_count": null,
   "metadata": {},
   "outputs": [],
   "source": []
  },
  {
   "cell_type": "code",
   "execution_count": null,
   "metadata": {},
   "outputs": [],
   "source": []
  }
 ],
 "metadata": {
  "kernelspec": {
   "display_name": "Python 3",
   "language": "python",
   "name": "python3"
  },
  "language_info": {
   "codemirror_mode": {
    "name": "ipython",
    "version": 3
   },
   "file_extension": ".py",
   "mimetype": "text/x-python",
   "name": "python",
   "nbconvert_exporter": "python",
   "pygments_lexer": "ipython3",
   "version": "3.8.5"
  }
 },
 "nbformat": 4,
 "nbformat_minor": 4
}
