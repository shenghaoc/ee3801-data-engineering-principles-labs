{
 "cells": [
  {
   "cell_type": "code",
   "execution_count": 1,
   "metadata": {
    "collapsed": false,
    "jupyter": {
     "outputs_hidden": false
    },
    "pycharm": {
     "name": "#%%\n"
    }
   },
   "outputs": [],
   "source": [
    "import pandas as pd\n",
    "import matplotlib.pyplot as plt\n",
    "import statistics"
   ]
  },
  {
   "cell_type": "code",
   "execution_count": 2,
   "metadata": {
    "collapsed": false,
    "jupyter": {
     "outputs_hidden": false
    },
    "pycharm": {
     "name": "#%%\n"
    }
   },
   "outputs": [],
   "source": [
    "fao = pd.read_csv('FAO.csv', encoding= 'unicode_escape')"
   ]
  },
  {
   "cell_type": "code",
   "execution_count": 7,
   "metadata": {
    "collapsed": false,
    "jupyter": {
     "outputs_hidden": false
    },
    "pycharm": {
     "name": "#%%\n"
    }
   },
   "outputs": [],
   "source": [
    "# 1(a)\n",
    "overall_annual_food_production = fao.groupby(\"Area\").sum()\n",
    "overall_annual_food_production.to_csv('overall_annual_food_production.csv')"
   ]
  },
  {
   "cell_type": "code",
   "execution_count": 19,
   "metadata": {},
   "outputs": [
    {
     "name": "stdout",
     "output_type": "stream",
     "text": [
      "Area\n",
      "Afghanistan     689162.0\n",
      "Albania         237202.0\n",
      "Algeria        1530613.0\n",
      "Yemen           459785.0\n",
      "Zambia          315687.0\n",
      "Zimbabwe        351093.0\n"
     ]
    }
   ],
   "source": [
    "#1(b)\n",
    "overall_food_production = overall_annual_food_production.sum(axis=1)"
   ]
  },
  {
   "cell_type": "code",
   "execution_count": 20,
   "metadata": {},
   "outputs": [
    {
     "name": "stdout",
     "output_type": "stream",
     "text": [
      "Area\n",
      "Afghanistan    13003.056604\n",
      "Albania         4475.509434\n",
      "Algeria        28879.490566\n",
      "Yemen           8675.188679\n",
      "Zambia          5956.358491\n",
      "Zimbabwe        6624.396226\n"
     ]
    }
   ],
   "source": [
    "#1(c)\n",
    "average_food_production = overall_annual_food_production.mean(axis=1)"
   ]
  },
  {
   "cell_type": "code",
   "execution_count": 23,
   "metadata": {},
   "outputs": [
    {
     "name": "stdout",
     "output_type": "stream",
     "text": [
      "Area\n",
      "Afghanistan                           0.001820\n",
      "Albania                               0.000626\n",
      "Algeria                               0.004041\n",
      "Angola                                0.001864\n",
      "Antigua and Barbuda                   0.000012\n",
      "                                        ...   \n",
      "Venezuela (Bolivarian Republic of)    0.003540\n",
      "Viet Nam                              0.008102\n",
      "Yemen                                 0.001214\n",
      "Zambia                                0.000834\n",
      "Zimbabwe                              0.000927\n",
      "Length: 174, dtype: float64\n"
     ]
    }
   ],
   "source": [
    "#1(d)\n",
    "overall_food_production_sum = overall_food_production.sum()\n",
    "percentage_food_production = overall_food_production/overall_food_production_sum"
   ]
  },
  {
   "cell_type": "code",
   "execution_count": 37,
   "metadata": {},
   "outputs": [
    {
     "name": "stdout",
     "output_type": "stream",
     "text": [
      "                   OPC        APPYPC     GAPPC\n",
      "Area                                          \n",
      "Afghanistan   689162.0  13003.056604  0.001820\n",
      "Albania       237202.0   4475.509434  0.000626\n",
      "Algeria      1530613.0  28879.490566  0.004041\n",
      "Yemen         459785.0   8675.188679  0.001214\n",
      "Zambia        315687.0   5956.358491  0.000834\n",
      "Zimbabwe      351093.0   6624.396226  0.000927\n"
     ]
    }
   ],
   "source": [
    "overall_and_average_and_percentage_food_production = pd.concat([overall_food_production.head(3).append(overall_food_production.tail(3)),\n",
    "                                                               average_food_production.head(3).append(average_food_production.tail(3)),\n",
    "                                                               percentage_food_production.head(3).append(percentage_food_production.tail(3))],\n",
    "                                                               axis=1, keys=['OPC', 'APPYPC', 'GAPPC'])\n",
    "print(overall_and_average_and_percentage_food_production)"
   ]
  },
  {
   "cell_type": "code",
   "execution_count": null,
   "metadata": {},
   "outputs": [],
   "source": []
  }
 ],
 "metadata": {
  "kernelspec": {
   "display_name": "Python 3",
   "language": "python",
   "name": "python3"
  },
  "language_info": {
   "codemirror_mode": {
    "name": "ipython",
    "version": 3
   },
   "file_extension": ".py",
   "mimetype": "text/x-python",
   "name": "python",
   "nbconvert_exporter": "python",
   "pygments_lexer": "ipython3",
   "version": "3.8.3"
  }
 },
 "nbformat": 4,
 "nbformat_minor": 4
}
