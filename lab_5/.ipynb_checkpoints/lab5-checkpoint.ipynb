{
 "cells": [
  {
   "cell_type": "code",
   "execution_count": 1,
   "metadata": {},
   "outputs": [],
   "source": [
    "import numpy as np\n",
    "import matplotlib.pyplot as plt\n"
   ]
  },
  {
   "cell_type": "code",
   "execution_count": 2,
   "metadata": {},
   "outputs": [],
   "source": [
    "data = np.loadtxt(\"picasso/session01/RawData_T1-400/session_1_5112018105323.txt\", skiprows=14)\n",
    "uind = np.arange(300)\n",
    "ut = np.cumsum(data[uind,1])"
   ]
  },
  {
   "cell_type": "code",
   "execution_count": null,
   "metadata": {},
   "outputs": [],
   "source": [
    "plt.figure()\n",
    "plt.subplot(3,1,1)\n",
    "plt.plot(ut,data[uind,2])\n",
    "plt.xlabel('Time (s)')\n",
    "plt.ylabel('X-Pos')\n",
    "mi = data[uind,0].nonzero()\n",
    "yl = plt.ylim()\n",
    "t2 = ut[mi[0][1:]]\n",
    "pt2 = np.kron(np.ones((2,1)),t2)\n",
    "py2 = np.kron(np.ones((np.size(pt2,1),1)),yl).transpose()\n",
    "plt.plot(pt2,py2)\n",
    "\n",
    "plt.subplot(3,1,2)\n",
    "plt.plot(ut,data[uind,3])\n",
    "plt.xlabel('Time (s)')\n",
    "plt.ylabel('Y-Pos')\n",
    "yl = plt.ylim()\n",
    "py2 = np.kron(np.ones((np.size(pt2,1),1)),yl).transpose()\n",
    "plt.plot(pt2,py2)\n",
    "\n",
    "plt.subplot(3,1,3)\n",
    "plt.plot(ut,data[uind,4])\n",
    "plt.xlabel('Time (s)')\n",
    "plt.ylabel('Orientation')\n",
    "yl = plt.ylim()\n",
    "py2 = np.kron(np.ones((np.size(pt2,1),1)),yl).transpose()\n",
    "plt.plot(pt2,py2)\n"
   ]
  }
 ],
 "metadata": {
  "kernelspec": {
   "display_name": "Python 3",
   "language": "python",
   "name": "python3"
  },
  "language_info": {
   "codemirror_mode": {
    "name": "ipython",
    "version": 3
   },
   "file_extension": ".py",
   "mimetype": "text/x-python",
   "name": "python",
   "nbconvert_exporter": "python",
   "pygments_lexer": "ipython3",
   "version": "3.7.6"
  }
 },
 "nbformat": 4,
 "nbformat_minor": 4
}
